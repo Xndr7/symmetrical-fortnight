{
 "cells": [
  {
   "cell_type": "code",
   "execution_count": null,
   "metadata": {
    "collapsed": true
   },
   "outputs": [],
   "source": [
    "import requests\n",
    "import time\n",
    "import json\n"
   ]
  },
  {
   "cell_type": "code",
   "execution_count": null,
   "metadata": {},
   "outputs": [],
   "source": [
    "from datetime import datetime\n",
    "day = 20 #time.strftime(\"%d\")\n",
    "month = time.strftime(\"%m\")\n",
    "year = time.strftime(\"%Y\")\n",
    "_time = time.strftime(\"%H%M%S\")\n"
   ]
  },
  {
   "cell_type": "code",
   "execution_count": null,
   "metadata": {
    "collapsed": true
   },
   "outputs": [],
   "source": [
    "re_main = requests.Session()"
   ]
  },
  {
   "cell_type": "code",
   "execution_count": null,
   "metadata": {
    "collapsed": true
   },
   "outputs": [],
   "source": [
    "cookies = {#'free_login' : '1' ,\n",
    "           #'ASPSESSIONIDSCSRTTSA' : 'CCEDNBFCLAPMFDOBMFNFJDAO' , \n",
    "           #'TOI_global_173A5644207F2372DBF8F81491F93D02D862AE7599A95CC299941943974D915F_ConsentsRequired' : 'false' ,\n",
    "           'TOIAuth' : 'Id=173A5644207F2372DBF8F81491F93D02D862AE7599A95CC299941943974D915F&sv=0&ed=iKopuhs675sz0BL77+cYIHGteaNSgcoLZGzKOAVcGezt9s74HvGafjDc9Xt5/s7KQAHA0NPpWS4NtcbE4jc9X8D4noOFKpoQTk8klBvxX6mP6SHBn531dBtq+ck7V2fk6acfVjK2/ulq6eo1Lrh4hfKbWoIHjuw7RZKD3xcCT+Y=&pu=0&HashedId=173A5644207F2372DBF8F81491F93D02D862AE7599A95CC299941943974D915F'\n",
    "          }\n",
    "headers = {'X-Requested-With' : 'XMLHttpRequest'}"
   ]
  },
  {
   "cell_type": "code",
   "execution_count": null,
   "metadata": {
    "collapsed": true
   },
   "outputs": [],
   "source": [
    "r_con = re_main.get(\"https://epaper.timesgroup.com/Olive/ODN/TimesOfIndia/get/TOIM-{}-{}-{}/settings.ashx?kind=context&href=TOIM%2F{}%2F{}%2F{}\".format(year,month,day,year,month,day),\n",
    "                    cookies=cookies,headers=headers)"
   ]
  },
  {
   "cell_type": "code",
   "execution_count": null,
   "metadata": {},
   "outputs": [],
   "source": [
    "r_con.status_code"
   ]
  },
  {
   "cell_type": "code",
   "execution_count": null,
   "metadata": {},
   "outputs": [],
   "source": [
    "r_con.content"
   ]
  },
  {
   "cell_type": "code",
   "execution_count": null,
   "metadata": {},
   "outputs": [],
   "source": [
    "date_string = datetime.strptime(str(json.loads(r_con.content)['timestamp']),\"%a, %d %b %Y %H:%M:%S %Z\")\n",
    "date_string = date_string.strftime(\"%Y%m%d%H%M%S\")\n",
    "date_string = str(date_string)"
   ]
  },
  {
   "cell_type": "code",
   "execution_count": null,
   "metadata": {},
   "outputs": [],
   "source": [
    "r = re_main.get(\"https://epaper.timesgroup.com/Olive/ODN/TimesOfIndia/get/TOIM-{}-{}-{}/prxml.ashx?kind=doc&href=TOIM%2F{}%2F{}%2F{}&ts={}\".format(year,month,day,year,month,day,date_string),cookies=cookies,headers=headers)"
   ]
  },
  {
   "cell_type": "code",
   "execution_count": null,
   "metadata": {},
   "outputs": [],
   "source": [
    "r.status_code"
   ]
  },
  {
   "cell_type": "code",
   "execution_count": null,
   "metadata": {
    "collapsed": true
   },
   "outputs": [],
   "source": [
    "json_d = json.loads(r.content)"
   ]
  },
  {
   "cell_type": "code",
   "execution_count": null,
   "metadata": {},
   "outputs": [],
   "source": [
    "print(str(json_d['sk']))"
   ]
  },
  {
   "cell_type": "code",
   "execution_count": null,
   "metadata": {},
   "outputs": [],
   "source": [
    "r_pdf = re_main.get(\"https://epaper.timesgroup.com/Olive/ODN/TimesOfIndia/get/pdf.ashx?kind=file&doc=TOIM%2F{}%2F{}%2F{}&sk={}\".format(year,month,day,str(json_d['sk'])),\n",
    "                    cookies=cookies,headers=headers,stream=True)\n",
    "chunk_size = 2000\n",
    "with open(\"testing.pdf\",\"wb\") as fd:\n",
    "    for chunk in r_pdf.iter_content(chunk_size):\n",
    "        fd.write(chunk)\n",
    "\n"
   ]
  },
  {
   "cell_type": "code",
   "execution_count": null,
   "metadata": {},
   "outputs": [],
   "source": [
    "from PyPDF2 import PdfFileReader\n",
    "pdf_toread = PdfFileReader(open(\"testing.pdf\", \"rb\"))\n",
    "pdf_info = pdf_toread.getDocumentInfo()\n",
    "print(str(pdf_info))"
   ]
  },
  {
   "cell_type": "code",
   "execution_count": null,
   "metadata": {
    "collapsed": true
   },
   "outputs": [],
   "source": []
  },
  {
   "cell_type": "code",
   "execution_count": null,
   "metadata": {
    "collapsed": true
   },
   "outputs": [],
   "source": [
    "re_ma = re_main.post(\"https://epaper.timesgroup.com/Olive/ODN/TimesOfIndia/get/settings.ashx?kind=settings&at=2018-09-27-10-02-17&st=2018-09-14-21-02-17\",cookies=cookies,headers=headers)"
   ]
  },
  {
   "cell_type": "code",
   "execution_count": null,
   "metadata": {},
   "outputs": [],
   "source": [
    "re_ma.status_code"
   ]
  },
  {
   "cell_type": "code",
   "execution_count": null,
   "metadata": {
    "collapsed": true
   },
   "outputs": [],
   "source": []
  },
  {
   "cell_type": "code",
   "execution_count": null,
   "metadata": {
    "collapsed": true
   },
   "outputs": [],
   "source": []
  },
  {
   "cell_type": "code",
   "execution_count": 2,
   "metadata": {},
   "outputs": [],
   "source": [
    "import requests\n",
    "import time\n",
    "import json\n",
    "from datetime import datetime\n",
    "day = time.strftime(\"%d\")\n",
    "month = time.strftime(\"%m\")\n",
    "year = time.strftime(\"%Y\")\n",
    "_time = time.strftime(\"%H%M%S\")\n",
    "\n",
    "re_main = requests.Session()\n",
    "\n",
    "cookies = {#'free_login' : '1' ,\n",
    "           #'ASPSESSIONIDSCSRTTSA' : 'CCEDNBFCLAPMFDOBMFNFJDAO' , \n",
    "           #'TOI_global_173A5644207F2372DBF8F81491F93D02D862AE7599A95CC299941943974D915F_ConsentsRequired' : 'false' ,\n",
    "           'TOIAuth' : 'Id=173A5644207F2372DBF8F81491F93D02D862AE7599A95CC299941943974D915F&sv=0&ed=iKopuhs675sz0BL77+cYIHGteaNSgcoLZGzKOAVcGezt9s74HvGafjDc9Xt5/s7KQAHA0NPpWS4NtcbE4jc9X8D4noOFKpoQTk8klBvxX6mP6SHBn531dBtq+ck7V2fk6acfVjK2/ulq6eo1Lrh4hfKbWoIHjuw7RZKD3xcCT+Y=&pu=0&HashedId=173A5644207F2372DBF8F81491F93D02D862AE7599A95CC299941943974D915F'\n",
    "          }\n",
    "headers = {'X-Requested-With' : 'XMLHttpRequest'}\n",
    "r_settings = re_main.get(\"https://epaper.timesgroup.com/Olive/ODN/TimesOfIndia/get/TOIM-{}-{}-{}/settings.ashx?kind=context&href=TOIM%2F{}%2F{}%2F{}\".format(year,month,day,year,month,day),\n",
    "                    cookies=cookies,headers=headers)\n",
    "\n",
    "if r_settings.status_code == requests.codes.ok:\n",
    "    date_string = datetime.strptime(str(json.loads(r_settings.content)['timestamp']),\"%a, %d %b %Y %H:%M:%S %Z\")\n",
    "    date_string = date_string.strftime(\"%Y%m%d%H%M%S\")\n",
    "    date_string = str(date_string)\n",
    "    r_ds = re_main.get(\"https://epaper.timesgroup.com/Olive/ODN/TimesOfIndia/get/TOIM-{}-{}-{}/prxml.ashx?kind=doc&href=TOIM%2F{}%2F{}%2F{}&ts={}\".format(year,month,day,year,month,day,date_string),\n",
    "                    cookies=cookies,headers=headers)\n",
    "    if r_ds.status_code == requests.codes.ok:\n",
    "        json_d = json.loads(r_ds.content)\n",
    "        r_pdf = re_main.get(\"https://epaper.timesgroup.com/Olive/ODN/TimesOfIndia/get/pdf.ashx?kind=file&doc=TOIM%2F{}%2F{}%2F{}&sk={}\".format(year,month,day,str(json_d['sk'])),\n",
    "                    cookies=cookies,headers=headers,stream=True)\n",
    "        chunk_size = 2000\n",
    "        with open(\"testing.pdf\",\"wb\") as fd:\n",
    "            for chunk in r_pdf.iter_content(chunk_size):\n",
    "                fd.write(chunk)\n",
    "\n",
    "    \n"
   ]
  },
  {
   "cell_type": "code",
   "execution_count": null,
   "metadata": {
    "collapsed": true
   },
   "outputs": [],
   "source": []
  }
 ],
 "metadata": {
  "kernelspec": {
   "display_name": "Python 2",
   "language": "python",
   "name": "python2"
  },
  "language_info": {
   "codemirror_mode": {
    "name": "ipython",
    "version": 2
   },
   "file_extension": ".py",
   "mimetype": "text/x-python",
   "name": "python",
   "nbconvert_exporter": "python",
   "pygments_lexer": "ipython2",
   "version": "2.7.13"
  }
 },
 "nbformat": 4,
 "nbformat_minor": 2
}
